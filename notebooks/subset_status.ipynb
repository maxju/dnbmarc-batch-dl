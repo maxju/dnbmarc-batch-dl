{
 "cells": [
  {
   "cell_type": "code",
   "execution_count": null,
   "metadata": {},
   "outputs": [],
   "source": [
    "# get subset and print schema and example entries\n",
    "import psycopg2\n",
    "from dotenv import load_dotenv\n",
    "import os\n",
    "\n",
    "# Umgebungsvariablen laden\n",
    "load_dotenv()\n",
    "\n",
    "\n",
    "def connect_to_db() -> psycopg2.extensions.connection:\n",
    "    \"\"\"Datenbankverbindung herstellen\"\"\"\n",
    "    return psycopg2.connect(\n",
    "        host=os.getenv(\"DB_HOST\"),\n",
    "        port=os.getenv(\"DB_PORT\"),\n",
    "        database=os.getenv(\"DB_NAME\"),\n",
    "        user=os.getenv(\"DB_USER\"),\n",
    "        password=os.getenv(\"DB_PASSWORD\"),\n",
    "    )\n",
    "\n",
    "\n",
    "# Verbindung zur Subset-Datenbank herstellen\n",
    "subset_conn = connect_to_db()\n",
    "subset_cur = subset_conn.cursor()\n",
    "\n",
    "# Total entries\n",
    "subset_cur.execute(\"SELECT COUNT(*) FROM dnb_records_subset\")\n",
    "total_subset_entries = subset_cur.fetchone()[0]\n",
    "\n",
    "# Anzahl der Einträge in der Subset-Tabelle zählen\n",
    "subset_cur.execute(\"SELECT COUNT(*) FROM dnb_records_subset WHERE drive_file_id IS NOT NULL\")\n",
    "processed_subset_entries = subset_cur.fetchone()[0]\n",
    "print(f\"Konvertiert: {processed_subset_entries} / {total_subset_entries}\")\n",
    "\n",
    "# Ressourcen freigeben\n",
    "subset_cur.close()\n",
    "subset_conn.close()"
   ]
  }
 ],
 "metadata": {
  "kernelspec": {
   "display_name": "dnb-converter",
   "language": "python",
   "name": "python3"
  },
  "language_info": {
   "codemirror_mode": {
    "name": "ipython",
    "version": 3
   },
   "file_extension": ".py",
   "mimetype": "text/x-python",
   "name": "python",
   "nbconvert_exporter": "python",
   "pygments_lexer": "ipython3",
   "version": "3.11.0"
  }
 },
 "nbformat": 4,
 "nbformat_minor": 2
}
