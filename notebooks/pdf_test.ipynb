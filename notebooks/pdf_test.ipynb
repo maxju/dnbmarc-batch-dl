{
 "cells": [
  {
   "cell_type": "code",
   "execution_count": null,
   "metadata": {},
   "outputs": [],
   "source": [
    "import sqlite3\n",
    "import pandas as pd\n",
    "\n",
    "conn = sqlite3.connect(\"../data/dnb_records.db\")\n",
    "\n",
    "query = \"\"\"\n",
    "SELECT url_dnb_archive, title, publication_year, year, language, path, num_pages, content_type, file_extension\n",
    "FROM dnb_records \n",
    "WHERE path IS NOT NULL \n",
    "ORDER BY RANDOM() \n",
    "LIMIT 1\n",
    "\"\"\"\n",
    "df = pd.read_sql_query(query, conn)\n",
    "print(df)"
   ]
  },
  {
   "cell_type": "code",
   "execution_count": null,
   "metadata": {},
   "outputs": [],
   "source": [
    "\n",
    "from IPython.core.display import display, HTML\n",
    "import os\n",
    "file = df.iloc[0, 5]\n",
    "# file = '103683655X.pdf'\n",
    "files_path = os.path.join(os.getcwd(), '../data/files/')\n",
    "pdf_path = os.path.join(files_path, file)\n",
    "print(pdf_path)\n",
    "# display(HTML(f'<iframe src=\"https://docs.google.com/gview?url={pdf_path}&embedded=true\" style=\"width:800px; height:600px;\" frameborder=\"0\"></iframe>'))"
   ]
  }
 ],
 "metadata": {
  "kernelspec": {
   "display_name": "Python 3",
   "language": "python",
   "name": "python3"
  },
  "language_info": {
   "codemirror_mode": {
    "name": "ipython",
    "version": 3
   },
   "file_extension": ".py",
   "mimetype": "text/x-python",
   "name": "python",
   "nbconvert_exporter": "python",
   "pygments_lexer": "ipython3",
   "version": "3.11.6"
  }
 },
 "nbformat": 4,
 "nbformat_minor": 2
}
