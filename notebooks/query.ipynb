{
 "cells": [
  {
   "cell_type": "code",
   "execution_count": null,
   "metadata": {},
   "outputs": [],
   "source": [
    "import sqlite3\n",
    "import pandas as pd\n",
    "\n",
    "conn = sqlite3.connect(\"../dnb_records.db\")\n",
    "\n",
    "query = \"\"\"\n",
    "SELECT \n",
    "    COUNT(*) as total_records,\n",
    "    SUM(num_pages) as total_pages\n",
    "FROM dnb_records \n",
    "WHERE num_pages IS NOT NULL AND num_pages > 0\n",
    "\"\"\"\n",
    "df = pd.read_sql_query(query, conn)\n",
    "print(df)\n",
    "\n",
    "conn.close()"
   ]
  },
  {
   "cell_type": "code",
   "execution_count": null,
   "metadata": {},
   "outputs": [],
   "source": [
    "import psycopg2\n",
    "\n",
    "conn = psycopg2.connect(\n",
    "    host=\"192.168.0.111\",\n",
    "    database=\"dnb_records\",\n",
    "    user=\"dnb\",\n",
    "    password=\"RUzDBrlPnjHZpYci8GrKCvtQNnbQ8u8sQ5RavlCG\"\n",
    ")\n",
    "\n",
    "cur = conn.cursor()\n",
    "\n",
    "cur.execute(\"SELECT COUNT(*) FROM dnb_records WHERE abstract_num IS NOT NULL;\")\n",
    "count = cur.fetchone()[0]\n",
    "\n",
    "print(f\"Number of dnb_records with abstract_num not null: {count}\")\n",
    "\n",
    "cur.close()\n",
    "conn.close()\n",
    "\n"
   ]
  }
 ],
 "metadata": {
  "kernelspec": {
   "display_name": "Python 3",
   "language": "python",
   "name": "python3"
  },
  "language_info": {
   "codemirror_mode": {
    "name": "ipython",
    "version": 3
   },
   "file_extension": ".py",
   "mimetype": "text/x-python",
   "name": "python",
   "nbconvert_exporter": "python",
   "pygments_lexer": "ipython3",
   "version": "3.11.6"
  }
 },
 "nbformat": 4,
 "nbformat_minor": 2
}
