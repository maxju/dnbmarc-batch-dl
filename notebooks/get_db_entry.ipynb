{
 "cells": [
  {
   "cell_type": "code",
   "execution_count": null,
   "metadata": {},
   "outputs": [],
   "source": [
    "# get specific entry by filename and type of file\n",
    "import os\n",
    "import psycopg2\n",
    "\n",
    "filename = \"97250155X\"\n",
    "type_of_file = \"mmd\"\n",
    "\n",
    "def connect_to_db() -> psycopg2.extensions.connection:\n",
    "    \"\"\"Datenbankverbindung herstellen\"\"\"\n",
    "    return psycopg2.connect(\n",
    "        host=os.getenv(\"DB_HOST\"),\n",
    "        port=os.getenv(\"DB_PORT\"),\n",
    "        database=os.getenv(\"DB_NAME\"),\n",
    "        user=os.getenv(\"DB_USER\"),\n",
    "        password=os.getenv(\"DB_PASSWORD\"),\n",
    "    )\n",
    "\n",
    "conn = connect_to_db()\n",
    "\n",
    "get_specific_entry_query = f\"\"\"\n",
    "    SELECT * FROM {\n",
    "        'dnb_records_subset' if type_of_file == 'mmd' else 'dnb_records'\n",
    "    } WHERE {\n",
    "        'converted_file' if type_of_file == 'mmd' else 'path'\n",
    "    } = '{filename}.{type_of_file}'\n",
    "\"\"\"\n",
    "\n",
    "subset_cur = conn.cursor()\n",
    "subset_cur.execute(get_specific_entry_query)\n",
    "if subset_cur.rowcount > 0:\n",
    "    for row in subset_cur.fetchall():\n",
    "        print(\"\\n---\")\n",
    "        for i, column in enumerate(subset_cur.description):\n",
    "            print(f\"{column.name}: {row[i]}\")\n",
    "else: \n",
    "    print(\"No entry found\")"
   ]
  }
 ],
 "metadata": {
  "language_info": {
   "name": "python"
  }
 },
 "nbformat": 4,
 "nbformat_minor": 2
}
